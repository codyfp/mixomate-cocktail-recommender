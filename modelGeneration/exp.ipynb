{
 "cells": [
  {
   "cell_type": "code",
   "execution_count": 28,
   "metadata": {},
   "outputs": [],
   "source": [
    "import numpy as np\n",
    "import pandas as pd\n",
    "import matplotlib.pyplot as plt\n",
    "import os\n",
    "import warnings\n",
    "import nltk\n",
    "from nltk.tokenize import word_tokenize\n",
    "from nltk.probability import FreqDist\n",
    "from nltk.corpus import stopwords\n",
    "import re\n",
    "\n",
    "warnings.filterwarnings('ignore')\n",
    "%matplotlib inline\n",
    "\n",
    "import tensorflow.keras as tf"
   ]
  },
  {
   "cell_type": "code",
   "execution_count": 5,
   "metadata": {},
   "outputs": [],
   "source": [
    "\n",
    "drinks_df = pd.read_csv(\"cocktail-data/drinks.csv\")"
   ]
  },
  {
   "cell_type": "code",
   "execution_count": 6,
   "metadata": {},
   "outputs": [
    {
     "data": {
      "text/html": [
       "<div>\n",
       "<style scoped>\n",
       "    .dataframe tbody tr th:only-of-type {\n",
       "        vertical-align: middle;\n",
       "    }\n",
       "\n",
       "    .dataframe tbody tr th {\n",
       "        vertical-align: top;\n",
       "    }\n",
       "\n",
       "    .dataframe thead th {\n",
       "        text-align: right;\n",
       "    }\n",
       "</style>\n",
       "<table border=\"1\" class=\"dataframe\">\n",
       "  <thead>\n",
       "    <tr style=\"text-align: right;\">\n",
       "      <th></th>\n",
       "      <th>Cocktail Name</th>\n",
       "      <th>Bartender</th>\n",
       "      <th>Bar/Company</th>\n",
       "      <th>Location</th>\n",
       "      <th>Ingredients</th>\n",
       "      <th>Garnish</th>\n",
       "      <th>Glassware</th>\n",
       "      <th>Preparation</th>\n",
       "      <th>Notes</th>\n",
       "    </tr>\n",
       "  </thead>\n",
       "  <tbody>\n",
       "    <tr>\n",
       "      <th>0</th>\n",
       "      <td>Flor de Amaras</td>\n",
       "      <td>Kelly McCarthy</td>\n",
       "      <td>NaN</td>\n",
       "      <td>Boston</td>\n",
       "      <td>1.5 oz Mezcal, 1 oz Hibiscus Simple Syrup*, .5...</td>\n",
       "      <td>Marigold Petals</td>\n",
       "      <td>NaN</td>\n",
       "      <td>*Hibiscus Simple Syrup:\\n1:1 w/ a cup of dried...</td>\n",
       "      <td>NaN</td>\n",
       "    </tr>\n",
       "    <tr>\n",
       "      <th>1</th>\n",
       "      <td>The Happy Place</td>\n",
       "      <td>Elizabeth Montana</td>\n",
       "      <td>Forgery &amp; Verso</td>\n",
       "      <td>San Francisco</td>\n",
       "      <td>2 oz Junipero Gin, .75 oz House-made Cranberry...</td>\n",
       "      <td>Dehydrated Lemon Wheel, Sprig of Rosemary</td>\n",
       "      <td>NaN</td>\n",
       "      <td>*House-made Cranberry syrup: \\n-- 2 cups Fresh...</td>\n",
       "      <td>Junipero Gin 20th Anniversary Signature Cocktail</td>\n",
       "    </tr>\n",
       "    <tr>\n",
       "      <th>2</th>\n",
       "      <td>Bon Voyage Pisco Punch</td>\n",
       "      <td>Jon Morales</td>\n",
       "      <td>NaN</td>\n",
       "      <td>San Francisco</td>\n",
       "      <td>1500 ml BarSol Selecto Italia Pisco, 750 ml Le...</td>\n",
       "      <td>NaN</td>\n",
       "      <td>Punch Bowl</td>\n",
       "      <td>*Pineapple Gomme: \\nMix equal parts (1.5 cups)...</td>\n",
       "      <td>NaN</td>\n",
       "    </tr>\n",
       "    <tr>\n",
       "      <th>3</th>\n",
       "      <td>Still Life of a Pineapple</td>\n",
       "      <td>Daniel Braganca</td>\n",
       "      <td>Backbar</td>\n",
       "      <td>Somerville</td>\n",
       "      <td>1.5 oz BarSol Primero Quebranta Pisco, .75 oz ...</td>\n",
       "      <td>NaN</td>\n",
       "      <td>NaN</td>\n",
       "      <td>*Pineapple Syrup:\\n&lt;em&gt;Equal parts pineapple b...</td>\n",
       "      <td>NaN</td>\n",
       "    </tr>\n",
       "    <tr>\n",
       "      <th>4</th>\n",
       "      <td>The Bittered Valley</td>\n",
       "      <td>Nik Virrey</td>\n",
       "      <td>NaN</td>\n",
       "      <td>Seattle</td>\n",
       "      <td>1.25 oz Luxardo Maraschino Liqueur, 4 drops Ac...</td>\n",
       "      <td>NaN</td>\n",
       "      <td>NaN</td>\n",
       "      <td>1st glass ingredients:\\nLuxardo Maraschino, Ac...</td>\n",
       "      <td>NaN</td>\n",
       "    </tr>\n",
       "  </tbody>\n",
       "</table>\n",
       "</div>"
      ],
      "text/plain": [
       "               Cocktail Name          Bartender      Bar/Company  \\\n",
       "0             Flor de Amaras     Kelly McCarthy              NaN   \n",
       "1            The Happy Place  Elizabeth Montana  Forgery & Verso   \n",
       "2     Bon Voyage Pisco Punch        Jon Morales              NaN   \n",
       "3  Still Life of a Pineapple    Daniel Braganca          Backbar   \n",
       "4        The Bittered Valley         Nik Virrey              NaN   \n",
       "\n",
       "        Location                                        Ingredients  \\\n",
       "0         Boston  1.5 oz Mezcal, 1 oz Hibiscus Simple Syrup*, .5...   \n",
       "1  San Francisco  2 oz Junipero Gin, .75 oz House-made Cranberry...   \n",
       "2  San Francisco  1500 ml BarSol Selecto Italia Pisco, 750 ml Le...   \n",
       "3     Somerville  1.5 oz BarSol Primero Quebranta Pisco, .75 oz ...   \n",
       "4        Seattle  1.25 oz Luxardo Maraschino Liqueur, 4 drops Ac...   \n",
       "\n",
       "                                     Garnish   Glassware  \\\n",
       "0                            Marigold Petals         NaN   \n",
       "1  Dehydrated Lemon Wheel, Sprig of Rosemary         NaN   \n",
       "2                                        NaN  Punch Bowl   \n",
       "3                                        NaN         NaN   \n",
       "4                                        NaN         NaN   \n",
       "\n",
       "                                         Preparation  \\\n",
       "0  *Hibiscus Simple Syrup:\\n1:1 w/ a cup of dried...   \n",
       "1  *House-made Cranberry syrup: \\n-- 2 cups Fresh...   \n",
       "2  *Pineapple Gomme: \\nMix equal parts (1.5 cups)...   \n",
       "3  *Pineapple Syrup:\\n<em>Equal parts pineapple b...   \n",
       "4  1st glass ingredients:\\nLuxardo Maraschino, Ac...   \n",
       "\n",
       "                                              Notes  \n",
       "0                                               NaN  \n",
       "1  Junipero Gin 20th Anniversary Signature Cocktail  \n",
       "2                                               NaN  \n",
       "3                                               NaN  \n",
       "4                                               NaN  "
      ]
     },
     "execution_count": 6,
     "metadata": {},
     "output_type": "execute_result"
    }
   ],
   "source": [
    "drinks_df.head()"
   ]
  },
  {
   "cell_type": "code",
   "execution_count": 15,
   "metadata": {},
   "outputs": [
    {
     "name": "stdout",
     "output_type": "stream",
     "text": [
      "(687, 9)\n",
      "Cocktail Name      0\n",
      "Bartender        235\n",
      "Bar/Company      417\n",
      "Location         345\n",
      "Ingredients        0\n",
      "Garnish          164\n",
      "Glassware        202\n",
      "Preparation       45\n",
      "Notes            536\n",
      "dtype: int64\n"
     ]
    }
   ],
   "source": [
    "print(drinks_df.shape)\n",
    "print(drinks_df.isnull().sum())\n"
   ]
  },
  {
   "cell_type": "code",
   "execution_count": 16,
   "metadata": {},
   "outputs": [
    {
     "name": "stdout",
     "output_type": "stream",
     "text": [
      "       Cocktail Name             Bartender  Bar/Company       Location  \\\n",
      "count            687                   452          270            342   \n",
      "unique           684                   250          168             41   \n",
      "top      Rita's Song  Francesco Lafranconi  Dirty Habit  San Francisco   \n",
      "freq               2                    38           29            156   \n",
      "\n",
      "                                              Ingredients         Garnish  \\\n",
      "count                                                 687             523   \n",
      "unique                                                686             318   \n",
      "top     1 oz No.3 London Dry Gin, 1 oz Tempus Fugit Al...  Luxardo Cherry   \n",
      "freq                                                    2              32   \n",
      "\n",
      "       Glassware                                        Preparation  \\\n",
      "count        485                                                642   \n",
      "unique        66                                                630   \n",
      "top        Coupe  Shake until very cold; double strain into a ch...   \n",
      "freq         107                                                  3   \n",
      "\n",
      "                                                    Notes  \n",
      "count                                                 151  \n",
      "unique                                                102  \n",
      "top     Featured on Speed Rack 2015 SF Speed City Take...  \n",
      "freq                                                   18  \n"
     ]
    }
   ],
   "source": [
    "print(drinks_df.describe())"
   ]
  },
  {
   "cell_type": "code",
   "execution_count": 44,
   "metadata": {},
   "outputs": [
    {
     "name": "stdout",
     "output_type": "stream",
     "text": [
      "Ingredient Count Statistics:\n",
      "count    687.000000\n",
      "mean       4.707424\n",
      "std        1.409150\n",
      "min        1.000000\n",
      "25%        4.000000\n",
      "50%        5.000000\n",
      "75%        5.000000\n",
      "max       13.000000\n",
      "Name: Ingredient Count, dtype: float64\n",
      "\n",
      "Top 10 Common Ingredients:\n",
      ".Lemon Juice                   76\n",
      ".Luxardo Maraschino Liqueur    65\n",
      "No.3 London Dry Gin            63\n",
      "Junipero Gin                   62\n",
      ".King's Ginger Liqueur         42\n",
      ".Lime Juice                    38\n",
      "H by HINE                      38\n",
      "King's Ginger Liqueur          36\n",
      ".Fresh Lemon Juice             32\n",
      "Pink Pigeon Rum                29\n",
      "Name: count, dtype: int64\n"
     ]
    }
   ],
   "source": [
    "# Split ingredients by comma and count the number of ingredients (excluding measurements and units)\n",
    "def count_ingredients(ingredients):\n",
    "    ingredient_list = [re.sub(r'\\d+\\s*oz\\s*', '', ingredient).strip() for ingredient in ingredients.split(',')]\n",
    "    return len(ingredient_list)\n",
    "\n",
    "drinks_df['Ingredient Count'] = drinks_df['Ingredients'].apply(count_ingredients)\n",
    "\n",
    "# Find the most common ingredients (excluding measurements and units)\n",
    "ingredients_list = [re.sub(r'\\d+(\\.\\d+)?\\s*oz\\s*', '', ingredient).strip() for ingredients in drinks_df['Ingredients'] for ingredient in ingredients.split(',')]\n",
    "common_ingredients = pd.Series(ingredients_list).value_counts()\n",
    "\n",
    "print(\"Ingredient Count Statistics:\")\n",
    "print(drinks_df['Ingredient Count'].describe())\n",
    "\n",
    "print(\"\\nTop 10 Common Ingredients:\")\n",
    "print(common_ingredients.head(10))\n"
   ]
  },
  {
   "cell_type": "code",
   "execution_count": 6,
   "metadata": {
    "tags": []
   },
   "outputs": [
    {
     "name": "stdout",
     "output_type": "stream",
     "text": [
      "Shape of train data: (785404, 3)\n",
      "Shape of test data: (196352, 3)\n"
     ]
    }
   ],
   "source": [
    "from sklearn.model_selection import train_test_split\n",
    "\n",
    "Xtrain, Xtest = train_test_split(ratings_df, test_size=0.2, random_state=1)\n",
    "print(f\"Shape of train data: {Xtrain.shape}\")\n",
    "print(f\"Shape of test data: {Xtest.shape}\")"
   ]
  },
  {
   "cell_type": "markdown",
   "metadata": {},
   "source": [
    "## CREATE A NEURAL NETWORK"
   ]
  },
  {
   "cell_type": "code",
   "execution_count": 7,
   "metadata": {},
   "outputs": [
    {
     "ename": "TypeError",
     "evalue": "Unexpected keyword argument passed to optimizer: learning_rate",
     "output_type": "error",
     "traceback": [
      "\u001b[1;31m---------------------------------------------------------------------------\u001b[0m",
      "\u001b[1;31mTypeError\u001b[0m                                 Traceback (most recent call last)",
      "\u001b[1;32m~\\AppData\\Local\\Temp\\ipykernel_10164\\294496809.py\u001b[0m in \u001b[0;36m<module>\u001b[1;34m\u001b[0m\n\u001b[0;32m     20\u001b[0m \u001b[0mmodel\u001b[0m \u001b[1;33m=\u001b[0m \u001b[0mtf\u001b[0m\u001b[1;33m.\u001b[0m\u001b[0mModel\u001b[0m\u001b[1;33m(\u001b[0m\u001b[1;33m[\u001b[0m\u001b[0minput_books\u001b[0m\u001b[1;33m,\u001b[0m \u001b[0minput_users\u001b[0m\u001b[1;33m]\u001b[0m\u001b[1;33m,\u001b[0m \u001b[0mx_out\u001b[0m\u001b[1;33m)\u001b[0m\u001b[1;33m\u001b[0m\u001b[1;33m\u001b[0m\u001b[0m\n\u001b[0;32m     21\u001b[0m \u001b[1;33m\u001b[0m\u001b[0m\n\u001b[1;32m---> 22\u001b[1;33m \u001b[0mopt\u001b[0m \u001b[1;33m=\u001b[0m \u001b[0mtf\u001b[0m\u001b[1;33m.\u001b[0m\u001b[0moptimizers\u001b[0m\u001b[1;33m.\u001b[0m\u001b[0mAdam\u001b[0m\u001b[1;33m(\u001b[0m\u001b[0mlearning_rate\u001b[0m\u001b[1;33m=\u001b[0m\u001b[1;36m0.001\u001b[0m\u001b[1;33m)\u001b[0m\u001b[1;33m\u001b[0m\u001b[1;33m\u001b[0m\u001b[0m\n\u001b[0m\u001b[0;32m     23\u001b[0m \u001b[0mmodel\u001b[0m\u001b[1;33m.\u001b[0m\u001b[0mcompile\u001b[0m\u001b[1;33m(\u001b[0m\u001b[0moptimizer\u001b[0m\u001b[1;33m=\u001b[0m\u001b[0mopt\u001b[0m\u001b[1;33m,\u001b[0m \u001b[0mloss\u001b[0m\u001b[1;33m=\u001b[0m\u001b[1;34m'mean_squared_error'\u001b[0m\u001b[1;33m)\u001b[0m\u001b[1;33m\u001b[0m\u001b[1;33m\u001b[0m\u001b[0m\n",
      "\u001b[1;32mc:\\Python37\\lib\\site-packages\\tensorflow\\python\\keras\\optimizers.py\u001b[0m in \u001b[0;36m__init__\u001b[1;34m(self, lr, beta_1, beta_2, epsilon, decay, amsgrad, **kwargs)\u001b[0m\n\u001b[0;32m    441\u001b[0m                \u001b[0mamsgrad\u001b[0m\u001b[1;33m=\u001b[0m\u001b[1;32mFalse\u001b[0m\u001b[1;33m,\u001b[0m\u001b[1;33m\u001b[0m\u001b[1;33m\u001b[0m\u001b[0m\n\u001b[0;32m    442\u001b[0m                **kwargs):\n\u001b[1;32m--> 443\u001b[1;33m     \u001b[0msuper\u001b[0m\u001b[1;33m(\u001b[0m\u001b[0mAdam\u001b[0m\u001b[1;33m,\u001b[0m \u001b[0mself\u001b[0m\u001b[1;33m)\u001b[0m\u001b[1;33m.\u001b[0m\u001b[0m__init__\u001b[0m\u001b[1;33m(\u001b[0m\u001b[1;33m**\u001b[0m\u001b[0mkwargs\u001b[0m\u001b[1;33m)\u001b[0m\u001b[1;33m\u001b[0m\u001b[1;33m\u001b[0m\u001b[0m\n\u001b[0m\u001b[0;32m    444\u001b[0m     \u001b[1;32mwith\u001b[0m \u001b[0mK\u001b[0m\u001b[1;33m.\u001b[0m\u001b[0mname_scope\u001b[0m\u001b[1;33m(\u001b[0m\u001b[0mself\u001b[0m\u001b[1;33m.\u001b[0m\u001b[0m__class__\u001b[0m\u001b[1;33m.\u001b[0m\u001b[0m__name__\u001b[0m\u001b[1;33m)\u001b[0m\u001b[1;33m:\u001b[0m\u001b[1;33m\u001b[0m\u001b[1;33m\u001b[0m\u001b[0m\n\u001b[0;32m    445\u001b[0m       \u001b[0mself\u001b[0m\u001b[1;33m.\u001b[0m\u001b[0miterations\u001b[0m \u001b[1;33m=\u001b[0m \u001b[0mK\u001b[0m\u001b[1;33m.\u001b[0m\u001b[0mvariable\u001b[0m\u001b[1;33m(\u001b[0m\u001b[1;36m0\u001b[0m\u001b[1;33m,\u001b[0m \u001b[0mdtype\u001b[0m\u001b[1;33m=\u001b[0m\u001b[1;34m'int64'\u001b[0m\u001b[1;33m,\u001b[0m \u001b[0mname\u001b[0m\u001b[1;33m=\u001b[0m\u001b[1;34m'iterations'\u001b[0m\u001b[1;33m)\u001b[0m\u001b[1;33m\u001b[0m\u001b[1;33m\u001b[0m\u001b[0m\n",
      "\u001b[1;32mc:\\Python37\\lib\\site-packages\\tensorflow\\python\\keras\\optimizers.py\u001b[0m in \u001b[0;36m__init__\u001b[1;34m(self, **kwargs)\u001b[0m\n\u001b[0;32m     56\u001b[0m       \u001b[1;32mif\u001b[0m \u001b[0mk\u001b[0m \u001b[1;32mnot\u001b[0m \u001b[1;32min\u001b[0m \u001b[0mallowed_kwargs\u001b[0m\u001b[1;33m:\u001b[0m\u001b[1;33m\u001b[0m\u001b[1;33m\u001b[0m\u001b[0m\n\u001b[0;32m     57\u001b[0m         raise TypeError('Unexpected keyword argument '\n\u001b[1;32m---> 58\u001b[1;33m                         'passed to optimizer: ' + str(k))\n\u001b[0m\u001b[0;32m     59\u001b[0m       \u001b[1;31m# checks that clipnorm >= 0 and clipvalue >= 0\u001b[0m\u001b[1;33m\u001b[0m\u001b[1;33m\u001b[0m\u001b[1;33m\u001b[0m\u001b[0m\n\u001b[0;32m     60\u001b[0m       \u001b[1;32mif\u001b[0m \u001b[0mkwargs\u001b[0m\u001b[1;33m[\u001b[0m\u001b[0mk\u001b[0m\u001b[1;33m]\u001b[0m \u001b[1;33m<\u001b[0m \u001b[1;36m0\u001b[0m\u001b[1;33m:\u001b[0m\u001b[1;33m\u001b[0m\u001b[1;33m\u001b[0m\u001b[0m\n",
      "\u001b[1;31mTypeError\u001b[0m: Unexpected keyword argument passed to optimizer: learning_rate"
     ]
    }
   ],
   "source": [
    "#Get the number of unique entities in books and users columns\n",
    "nbook_id = ratings_df.book_id.nunique()\n",
    "nuser_id = ratings_df.user_id.nunique()\n",
    "\n",
    "\n",
    "#Book input network\n",
    "input_books = tf.layers.Input(shape=[1])\n",
    "embed_books = tf.layers.Embedding(nbook_id + 1,15)(input_books)\n",
    "books_out = tf.layers.Flatten()(embed_books)\n",
    "\n",
    "#user input network\n",
    "input_users = tf.layers.Input(shape=[1])\n",
    "embed_users = tf.layers.Embedding(nuser_id + 1,15)(input_users)\n",
    "users_out = tf.layers.Flatten()(embed_users)\n",
    "\n",
    "conc_layer = tf.layers.Concatenate()([books_out, users_out])\n",
    "x = tf.layers.Dense(128, activation='relu')(conc_layer)\n",
    "x_out = x = tf.layers.Dense(1, activation='relu')(x)\n",
    "\n",
    "model = tf.Model([input_books, input_users], x_out)\n",
    "\n",
    "opt = tf.optimizers.Adam(learning_rate=0.001)\n",
    "model.compile(optimizer=opt, loss='mean_squared_error')"
   ]
  },
  {
   "cell_type": "code",
   "execution_count": null,
   "metadata": {
    "tags": []
   },
   "outputs": [
    {
     "name": "stdout",
     "output_type": "stream",
     "text": [
      "Model: \"model\"\n",
      "__________________________________________________________________________________________________\n",
      "Layer (type)                    Output Shape         Param #     Connected to                     \n",
      "==================================================================================================\n",
      "input_1 (InputLayer)            [(None, 1)]          0                                            \n",
      "__________________________________________________________________________________________________\n",
      "input_2 (InputLayer)            [(None, 1)]          0                                            \n",
      "__________________________________________________________________________________________________\n",
      "embedding (Embedding)           (None, 1, 15)        150015      input_1[0][0]                    \n",
      "__________________________________________________________________________________________________\n",
      "embedding_1 (Embedding)         (None, 1, 15)        801375      input_2[0][0]                    \n",
      "__________________________________________________________________________________________________\n",
      "flatten (Flatten)               (None, 15)           0           embedding[0][0]                  \n",
      "__________________________________________________________________________________________________\n",
      "flatten_1 (Flatten)             (None, 15)           0           embedding_1[0][0]                \n",
      "__________________________________________________________________________________________________\n",
      "concatenate (Concatenate)       (None, 30)           0           flatten[0][0]                    \n",
      "                                                                 flatten_1[0][0]                  \n",
      "__________________________________________________________________________________________________\n",
      "dense (Dense)                   (None, 128)          3968        concatenate[0][0]                \n",
      "__________________________________________________________________________________________________\n",
      "dense_1 (Dense)                 (None, 1)            129         dense[0][0]                      \n",
      "==================================================================================================\n",
      "Total params: 955,487\n",
      "Trainable params: 955,487\n",
      "Non-trainable params: 0\n",
      "__________________________________________________________________________________________________\n"
     ]
    }
   ],
   "source": [
    "model.summary()"
   ]
  },
  {
   "cell_type": "code",
   "execution_count": null,
   "metadata": {
    "tags": []
   },
   "outputs": [
    {
     "name": "stdout",
     "output_type": "stream",
     "text": [
      "WARNING:tensorflow:Falling back from v2 loop because of error: Failed to find data adapter that can handle input: (<class 'list'> containing values of types {\"<class 'pandas.core.series.Series'>\"}), <class 'NoneType'>\n",
      "Train on 785404 samples, validate on 196352 samples\n",
      "Epoch 1/5\n",
      "785404/785404 [==============================] - 224s 285us/sample - loss: 0.8675 - val_loss: 0.7156\n",
      "Epoch 2/5\n",
      "785404/785404 [==============================] - 229s 292us/sample - loss: 0.6845 - val_loss: 0.6970\n",
      "Epoch 3/5\n",
      "785404/785404 [==============================] - 228s 291us/sample - loss: 0.6489 - val_loss: 0.6960\n",
      "Epoch 4/5\n",
      "785404/785404 [==============================] - 231s 294us/sample - loss: 0.6188 - val_loss: 0.7017\n",
      "Epoch 5/5\n",
      "785404/785404 [==============================] - 231s 295us/sample - loss: 0.5901 - val_loss: 0.7124\n"
     ]
    }
   ],
   "source": [
    "hist = model.fit([Xtrain.book_id, Xtrain.user_id], Xtrain.rating, \n",
    "                 batch_size=64, \n",
    "                 epochs=5, \n",
    "                 verbose=1,\n",
    "                 validation_data=([Xtest.book_id, Xtest.user_id], Xtest.rating))"
   ]
  },
  {
   "cell_type": "code",
   "execution_count": null,
   "metadata": {},
   "outputs": [
    {
     "data": {
      "text/plain": [
       "{'loss': [0.8674743072231863,\n",
       "  0.6845383935480744,\n",
       "  0.6488857544590257,\n",
       "  0.6188146994932093,\n",
       "  0.5900726376406444],\n",
       " 'val_loss': [0.7155714221347265,\n",
       "  0.6970150542810968,\n",
       "  0.6960220991632619,\n",
       "  0.7016856827939505,\n",
       "  0.7123982415011219]}"
      ]
     },
     "execution_count": 10,
     "metadata": {},
     "output_type": "execute_result"
    }
   ],
   "source": [
    "hist.history"
   ]
  },
  {
   "cell_type": "code",
   "execution_count": null,
   "metadata": {},
   "outputs": [
    {
     "data": {
      "image/png": "[encoded data removed]",
      "text/plain": [
       "<Figure size 432x288 with 1 Axes>"
      ]
     },
     "metadata": {
      "needs_background": "light"
     },
     "output_type": "display_data"
    }
   ],
   "source": [
    "train_loss = hist.history['loss']\n",
    "val_loss = hist.history['val_loss']\n",
    "\n",
    "plt.plot(train_loss, color='r', label='Train Loss')\n",
    "plt.plot(val_loss, color='b', label='Validation Loss')\n",
    "plt.title(\"Train and Validation Loss Curve\")\n",
    "plt.legend()\n",
    "plt.savefig(\"loss.png\")\n",
    "plt.show()"
   ]
  },
  {
   "cell_type": "code",
   "execution_count": null,
   "metadata": {
    "tags": []
   },
   "outputs": [
    {
     "name": "stdout",
     "output_type": "stream",
     "text": [
      "WARNING:tensorflow:From /home/dsn/anaconda3/lib/python3.7/site-packages/tensorflow_core/python/ops/resource_variable_ops.py:1781: calling BaseResourceVariable.__init__ (from tensorflow.python.ops.resource_variable_ops) with constraint is deprecated and will be removed in a future version.\n",
      "Instructions for updating:\n",
      "If using Keras pass *_constraint arguments to layers.\n",
      "INFO:tensorflow:Assets written to: model/assets\n"
     ]
    }
   ],
   "source": [
    "#save the model\n",
    "model.save('model')"
   ]
  },
  {
   "cell_type": "code",
   "execution_count": null,
   "metadata": {},
   "outputs": [],
   "source": [
    "# tf.utils.plot_model(model)"
   ]
  },
  {
   "cell_type": "markdown",
   "metadata": {},
   "source": [
    "## EXTRACT EMBEDDING LAYERS AND MAPPING FOR VISUALIZATION IN TENSORFLOW EMBEDDING PROJECTOR"
   ]
  },
  {
   "cell_type": "code",
   "execution_count": null,
   "metadata": {},
   "outputs": [],
   "source": [
    "# Extract embeddings\n",
    "book_em = model.get_layer('embedding')\n",
    "book_em_weights = book_em.get_weights()[0]"
   ]
  },
  {
   "cell_type": "code",
   "execution_count": null,
   "metadata": {},
   "outputs": [
    {
     "data": {
      "text/plain": [
       "(10001, 15)"
      ]
     },
     "execution_count": 15,
     "metadata": {},
     "output_type": "execute_result"
    }
   ],
   "source": [
    "book_em_weights.shape"
   ]
  },
  {
   "cell_type": "code",
   "execution_count": null,
   "metadata": {},
   "outputs": [
    {
     "data": {
      "text/html": [
       "<div>\n",
       "<style scoped>\n",
       "    .dataframe tbody tr th:only-of-type {\n",
       "        vertical-align: middle;\n",
       "    }\n",
       "\n",
       "    .dataframe tbody tr th {\n",
       "        vertical-align: top;\n",
       "    }\n",
       "\n",
       "    .dataframe thead th {\n",
       "        text-align: right;\n",
       "    }\n",
       "</style>\n",
       "<table border=\"1\" class=\"dataframe\">\n",
       "  <thead>\n",
       "    <tr style=\"text-align: right;\">\n",
       "      <th></th>\n",
       "      <th>id</th>\n",
       "      <th>best_book_id</th>\n",
       "      <th>work_id</th>\n",
       "      <th>books_count</th>\n",
       "      <th>isbn</th>\n",
       "      <th>isbn13</th>\n",
       "      <th>authors</th>\n",
       "      <th>original_publication_year</th>\n",
       "      <th>original_title</th>\n",
       "      <th>title</th>\n",
       "      <th>...</th>\n",
       "      <th>ratings_count</th>\n",
       "      <th>work_ratings_count</th>\n",
       "      <th>work_text_reviews_count</th>\n",
       "      <th>ratings_1</th>\n",
       "      <th>ratings_2</th>\n",
       "      <th>ratings_3</th>\n",
       "      <th>ratings_4</th>\n",
       "      <th>ratings_5</th>\n",
       "      <th>image_url</th>\n",
       "      <th>small_image_url</th>\n",
       "    </tr>\n",
       "    <tr>\n",
       "      <th>book_id</th>\n",
       "      <th></th>\n",
       "      <th></th>\n",
       "      <th></th>\n",
       "      <th></th>\n",
       "      <th></th>\n",
       "      <th></th>\n",
       "      <th></th>\n",
       "      <th></th>\n",
       "      <th></th>\n",
       "      <th></th>\n",
       "      <th></th>\n",
       "      <th></th>\n",
       "      <th></th>\n",
       "      <th></th>\n",
       "      <th></th>\n",
       "      <th></th>\n",
       "      <th></th>\n",
       "      <th></th>\n",
       "      <th></th>\n",
       "      <th></th>\n",
       "      <th></th>\n",
       "    </tr>\n",
       "  </thead>\n",
       "  <tbody>\n",
       "    <tr>\n",
       "      <th>2767052</th>\n",
       "      <td>1</td>\n",
       "      <td>2767052</td>\n",
       "      <td>2792775</td>\n",
       "      <td>272</td>\n",
       "      <td>439023483</td>\n",
       "      <td>9.780439e+12</td>\n",
       "      <td>Suzanne Collins</td>\n",
       "      <td>2008.0</td>\n",
       "      <td>The Hunger Games</td>\n",
       "      <td>The Hunger Games (The Hunger Games, #1)</td>\n",
       "      <td>...</td>\n",
       "      <td>4780653</td>\n",
       "      <td>4942365</td>\n",
       "      <td>155254</td>\n",
       "      <td>66715</td>\n",
       "      <td>127936</td>\n",
       "      <td>560092</td>\n",
       "      <td>1481305</td>\n",
       "      <td>2706317</td>\n",
       "      <td>https://images.gr-assets.com/books/1447303603m...</td>\n",
       "      <td>https://images.gr-assets.com/books/1447303603s...</td>\n",
       "    </tr>\n",
       "    <tr>\n",
       "      <th>3</th>\n",
       "      <td>2</td>\n",
       "      <td>3</td>\n",
       "      <td>4640799</td>\n",
       "      <td>491</td>\n",
       "      <td>439554934</td>\n",
       "      <td>9.780440e+12</td>\n",
       "      <td>J.K. Rowling, Mary GrandPré</td>\n",
       "      <td>1997.0</td>\n",
       "      <td>Harry Potter and the Philosopher's Stone</td>\n",
       "      <td>Harry Potter and the Sorcerer's Stone (Harry P...</td>\n",
       "      <td>...</td>\n",
       "      <td>4602479</td>\n",
       "      <td>4800065</td>\n",
       "      <td>75867</td>\n",
       "      <td>75504</td>\n",
       "      <td>101676</td>\n",
       "      <td>455024</td>\n",
       "      <td>1156318</td>\n",
       "      <td>3011543</td>\n",
       "      <td>https://images.gr-assets.com/books/1474154022m...</td>\n",
       "      <td>https://images.gr-assets.com/books/1474154022s...</td>\n",
       "    </tr>\n",
       "  </tbody>\n",
       "</table>\n",
       "<p>2 rows × 22 columns</p>\n",
       "</div>"
      ],
      "text/plain": [
       "         id  best_book_id  work_id  books_count       isbn        isbn13  \\\n",
       "book_id                                                                    \n",
       "2767052   1       2767052  2792775          272  439023483  9.780439e+12   \n",
       "3         2             3  4640799          491  439554934  9.780440e+12   \n",
       "\n",
       "                             authors  original_publication_year  \\\n",
       "book_id                                                           \n",
       "2767052              Suzanne Collins                     2008.0   \n",
       "3        J.K. Rowling, Mary GrandPré                     1997.0   \n",
       "\n",
       "                                   original_title  \\\n",
       "book_id                                             \n",
       "2767052                          The Hunger Games   \n",
       "3        Harry Potter and the Philosopher's Stone   \n",
       "\n",
       "                                                     title  ... ratings_count  \\\n",
       "book_id                                                     ...                 \n",
       "2767052            The Hunger Games (The Hunger Games, #1)  ...       4780653   \n",
       "3        Harry Potter and the Sorcerer's Stone (Harry P...  ...       4602479   \n",
       "\n",
       "         work_ratings_count  work_text_reviews_count  ratings_1  ratings_2  \\\n",
       "book_id                                                                      \n",
       "2767052             4942365                   155254      66715     127936   \n",
       "3                   4800065                    75867      75504     101676   \n",
       "\n",
       "         ratings_3  ratings_4  ratings_5  \\\n",
       "book_id                                    \n",
       "2767052     560092    1481305    2706317   \n",
       "3           455024    1156318    3011543   \n",
       "\n",
       "                                                 image_url  \\\n",
       "book_id                                                      \n",
       "2767052  https://images.gr-assets.com/books/1447303603m...   \n",
       "3        https://images.gr-assets.com/books/1474154022m...   \n",
       "\n",
       "                                           small_image_url  \n",
       "book_id                                                     \n",
       "2767052  https://images.gr-assets.com/books/1447303603s...  \n",
       "3        https://images.gr-assets.com/books/1474154022s...  \n",
       "\n",
       "[2 rows x 22 columns]"
      ]
     },
     "execution_count": 16,
     "metadata": {},
     "output_type": "execute_result"
    }
   ],
   "source": [
    "books_df_copy = books_df.copy()\n",
    "books_df_copy = books_df_copy.set_index(\"book_id\")\n",
    "books_df_copy.head(2)"
   ]
  },
  {
   "cell_type": "code",
   "execution_count": null,
   "metadata": {},
   "outputs": [],
   "source": [
    "b_id =list(ratings_df.book_id.unique())\n",
    "b_id.remove(10000)"
   ]
  },
  {
   "cell_type": "code",
   "execution_count": null,
   "metadata": {},
   "outputs": [],
   "source": [
    "dict_map = {}\n",
    "for i in b_id:\n",
    "    dict_map[i] = books_df_copy.iloc[i]['title']\n",
    "    \n",
    "out_v = open('vecs.tsv', 'w')\n",
    "out_m = open('meta.tsv', 'w')\n",
    "\n",
    "for i in b_id:\n",
    "    book = dict_map[i]\n",
    "    embeddings = book_em_weights[i]\n",
    "    out_m.write(book + \"\\n\")\n",
    "    out_v.write('\\t'.join([str(x) for x in embeddings]) + \"\\n\")\n",
    "    \n",
    "out_v.close()\n",
    "out_m.close()"
   ]
  },
  {
   "cell_type": "markdown",
   "metadata": {},
   "source": [
    "## MAKING PREDICTIONS"
   ]
  },
  {
   "cell_type": "code",
   "execution_count": null,
   "metadata": {},
   "outputs": [],
   "source": [
    "book_arr = np.array(b_id)\n",
    "user = np.array([53424 for i in range(len(b_id))])\n",
    "pred = model.predict([book_arr, user])"
   ]
  },
  {
   "cell_type": "code",
   "execution_count": null,
   "metadata": {},
   "outputs": [
    {
     "data": {
      "text/plain": [
       "array([[4.5011272],\n",
       "       [4.3990316],\n",
       "       [3.519008 ],\n",
       "       ...,\n",
       "       [4.4370375],\n",
       "       [4.5189867],\n",
       "       [3.6977477]], dtype=float32)"
      ]
     },
     "execution_count": 20,
     "metadata": {},
     "output_type": "execute_result"
    }
   ],
   "source": [
    "pred"
   ]
  },
  {
   "cell_type": "code",
   "execution_count": null,
   "metadata": {},
   "outputs": [
    {
     "data": {
      "text/plain": [
       "array([7946, 1787, 9568, 4777, 8975])"
      ]
     },
     "execution_count": 21,
     "metadata": {},
     "output_type": "execute_result"
    }
   ],
   "source": [
    "pred = pred.reshape(-1)\n",
    "pred_ids = (-pred).argsort()[0:5]\n",
    "pred_ids"
   ]
  },
  {
   "cell_type": "code",
   "execution_count": null,
   "metadata": {},
   "outputs": [
    {
     "data": {
      "text/plain": [
       "53424"
      ]
     },
     "execution_count": 22,
     "metadata": {},
     "output_type": "execute_result"
    }
   ],
   "source": [
    "ratings_df.user_id.nunique()"
   ]
  },
  {
   "cell_type": "code",
   "execution_count": null,
   "metadata": {},
   "outputs": [
    {
     "data": {
      "text/html": [
       "<div>\n",
       "<style scoped>\n",
       "    .dataframe tbody tr th:only-of-type {\n",
       "        vertical-align: middle;\n",
       "    }\n",
       "\n",
       "    .dataframe tbody tr th {\n",
       "        vertical-align: top;\n",
       "    }\n",
       "\n",
       "    .dataframe thead th {\n",
       "        text-align: right;\n",
       "    }\n",
       "</style>\n",
       "<table border=\"1\" class=\"dataframe\">\n",
       "  <thead>\n",
       "    <tr style=\"text-align: right;\">\n",
       "      <th></th>\n",
       "      <th>id</th>\n",
       "      <th>book_id</th>\n",
       "      <th>best_book_id</th>\n",
       "      <th>work_id</th>\n",
       "      <th>books_count</th>\n",
       "      <th>isbn</th>\n",
       "      <th>isbn13</th>\n",
       "      <th>authors</th>\n",
       "      <th>original_publication_year</th>\n",
       "      <th>original_title</th>\n",
       "      <th>...</th>\n",
       "      <th>ratings_count</th>\n",
       "      <th>work_ratings_count</th>\n",
       "      <th>work_text_reviews_count</th>\n",
       "      <th>ratings_1</th>\n",
       "      <th>ratings_2</th>\n",
       "      <th>ratings_3</th>\n",
       "      <th>ratings_4</th>\n",
       "      <th>ratings_5</th>\n",
       "      <th>image_url</th>\n",
       "      <th>small_image_url</th>\n",
       "    </tr>\n",
       "  </thead>\n",
       "  <tbody>\n",
       "    <tr>\n",
       "      <th>7946</th>\n",
       "      <td>7947</td>\n",
       "      <td>5031805</td>\n",
       "      <td>5031805</td>\n",
       "      <td>40769318</td>\n",
       "      <td>96</td>\n",
       "      <td>1433502410</td>\n",
       "      <td>9.781434e+12</td>\n",
       "      <td>Anonymous, Lane T. Dennis, Wayne A. Grudem</td>\n",
       "      <td>2002.0</td>\n",
       "      <td>NaN</td>\n",
       "      <td>...</td>\n",
       "      <td>8953</td>\n",
       "      <td>10784</td>\n",
       "      <td>262</td>\n",
       "      <td>98</td>\n",
       "      <td>90</td>\n",
       "      <td>367</td>\n",
       "      <td>1152</td>\n",
       "      <td>9077</td>\n",
       "      <td>https://images.gr-assets.com/books/1410151002m...</td>\n",
       "      <td>https://images.gr-assets.com/books/1410151002s...</td>\n",
       "    </tr>\n",
       "    <tr>\n",
       "      <th>1787</th>\n",
       "      <td>1788</td>\n",
       "      <td>24813</td>\n",
       "      <td>24813</td>\n",
       "      <td>692719</td>\n",
       "      <td>17</td>\n",
       "      <td>836204387</td>\n",
       "      <td>9.780836e+12</td>\n",
       "      <td>Bill Watterson</td>\n",
       "      <td>1995.0</td>\n",
       "      <td>The Calvin and Hobbes Tenth Anniversary Book</td>\n",
       "      <td>...</td>\n",
       "      <td>48280</td>\n",
       "      <td>48829</td>\n",
       "      <td>346</td>\n",
       "      <td>346</td>\n",
       "      <td>608</td>\n",
       "      <td>3077</td>\n",
       "      <td>8752</td>\n",
       "      <td>36046</td>\n",
       "      <td>https://s.gr-assets.com/assets/nophoto/book/11...</td>\n",
       "      <td>https://s.gr-assets.com/assets/nophoto/book/50...</td>\n",
       "    </tr>\n",
       "    <tr>\n",
       "      <th>9568</th>\n",
       "      <td>9569</td>\n",
       "      <td>32075671</td>\n",
       "      <td>32075671</td>\n",
       "      <td>49638190</td>\n",
       "      <td>36</td>\n",
       "      <td>62498533</td>\n",
       "      <td>9.780062e+12</td>\n",
       "      <td>Angie Thomas</td>\n",
       "      <td>2017.0</td>\n",
       "      <td>The Hate U Give</td>\n",
       "      <td>...</td>\n",
       "      <td>32610</td>\n",
       "      <td>38333</td>\n",
       "      <td>9038</td>\n",
       "      <td>208</td>\n",
       "      <td>321</td>\n",
       "      <td>1814</td>\n",
       "      <td>9207</td>\n",
       "      <td>26783</td>\n",
       "      <td>https://images.gr-assets.com/books/1476284759m...</td>\n",
       "      <td>https://images.gr-assets.com/books/1476284759s...</td>\n",
       "    </tr>\n",
       "    <tr>\n",
       "      <th>4777</th>\n",
       "      <td>4778</td>\n",
       "      <td>5883777</td>\n",
       "      <td>5883777</td>\n",
       "      <td>21899016</td>\n",
       "      <td>627</td>\n",
       "      <td>NaN</td>\n",
       "      <td>NaN</td>\n",
       "      <td>Anonymous</td>\n",
       "      <td>2001.0</td>\n",
       "      <td>Holy Bible English Standard Version</td>\n",
       "      <td>...</td>\n",
       "      <td>17863</td>\n",
       "      <td>23236</td>\n",
       "      <td>591</td>\n",
       "      <td>652</td>\n",
       "      <td>431</td>\n",
       "      <td>1082</td>\n",
       "      <td>1909</td>\n",
       "      <td>19162</td>\n",
       "      <td>https://images.gr-assets.com/books/1328227151m...</td>\n",
       "      <td>https://images.gr-assets.com/books/1328227151s...</td>\n",
       "    </tr>\n",
       "    <tr>\n",
       "      <th>8975</th>\n",
       "      <td>8976</td>\n",
       "      <td>39664</td>\n",
       "      <td>39664</td>\n",
       "      <td>24951203</td>\n",
       "      <td>37</td>\n",
       "      <td>896214400</td>\n",
       "      <td>9.780896e+12</td>\n",
       "      <td>Stephen King</td>\n",
       "      <td>1982.0</td>\n",
       "      <td>The Shawshank Redemption</td>\n",
       "      <td>...</td>\n",
       "      <td>11499</td>\n",
       "      <td>12882</td>\n",
       "      <td>788</td>\n",
       "      <td>16</td>\n",
       "      <td>115</td>\n",
       "      <td>1003</td>\n",
       "      <td>3776</td>\n",
       "      <td>7972</td>\n",
       "      <td>https://images.gr-assets.com/books/1315100686m...</td>\n",
       "      <td>https://images.gr-assets.com/books/1315100686s...</td>\n",
       "    </tr>\n",
       "  </tbody>\n",
       "</table>\n",
       "<p>5 rows × 23 columns</p>\n",
       "</div>"
      ],
      "text/plain": [
       "        id   book_id  best_book_id   work_id  books_count        isbn  \\\n",
       "7946  7947   5031805       5031805  40769318           96  1433502410   \n",
       "1787  1788     24813         24813    692719           17   836204387   \n",
       "9568  9569  32075671      32075671  49638190           36    62498533   \n",
       "4777  4778   5883777       5883777  21899016          627         NaN   \n",
       "8975  8976     39664         39664  24951203           37   896214400   \n",
       "\n",
       "            isbn13                                     authors  \\\n",
       "7946  9.781434e+12  Anonymous, Lane T. Dennis, Wayne A. Grudem   \n",
       "1787  9.780836e+12                              Bill Watterson   \n",
       "9568  9.780062e+12                                Angie Thomas   \n",
       "4777           NaN                                   Anonymous   \n",
       "8975  9.780896e+12                                Stephen King   \n",
       "\n",
       "      original_publication_year                                original_title  \\\n",
       "7946                     2002.0                                           NaN   \n",
       "1787                     1995.0  The Calvin and Hobbes Tenth Anniversary Book   \n",
       "9568                     2017.0                               The Hate U Give   \n",
       "4777                     2001.0           Holy Bible English Standard Version   \n",
       "8975                     1982.0                      The Shawshank Redemption   \n",
       "\n",
       "      ... ratings_count work_ratings_count  work_text_reviews_count  \\\n",
       "7946  ...          8953              10784                      262   \n",
       "1787  ...         48280              48829                      346   \n",
       "9568  ...         32610              38333                     9038   \n",
       "4777  ...         17863              23236                      591   \n",
       "8975  ...         11499              12882                      788   \n",
       "\n",
       "      ratings_1  ratings_2  ratings_3  ratings_4  ratings_5  \\\n",
       "7946         98         90        367       1152       9077   \n",
       "1787        346        608       3077       8752      36046   \n",
       "9568        208        321       1814       9207      26783   \n",
       "4777        652        431       1082       1909      19162   \n",
       "8975         16        115       1003       3776       7972   \n",
       "\n",
       "                                              image_url  \\\n",
       "7946  https://images.gr-assets.com/books/1410151002m...   \n",
       "1787  https://s.gr-assets.com/assets/nophoto/book/11...   \n",
       "9568  https://images.gr-assets.com/books/1476284759m...   \n",
       "4777  https://images.gr-assets.com/books/1328227151m...   \n",
       "8975  https://images.gr-assets.com/books/1315100686m...   \n",
       "\n",
       "                                        small_image_url  \n",
       "7946  https://images.gr-assets.com/books/1410151002s...  \n",
       "1787  https://s.gr-assets.com/assets/nophoto/book/50...  \n",
       "9568  https://images.gr-assets.com/books/1476284759s...  \n",
       "4777  https://images.gr-assets.com/books/1328227151s...  \n",
       "8975  https://images.gr-assets.com/books/1315100686s...  \n",
       "\n",
       "[5 rows x 23 columns]"
      ]
     },
     "execution_count": 23,
     "metadata": {},
     "output_type": "execute_result"
    }
   ],
   "source": [
    "books_df.iloc[pred_ids]"
   ]
  },
  {
   "cell_type": "markdown",
   "metadata": {},
   "source": [
    "### Prepare Data for use on application"
   ]
  },
  {
   "cell_type": "code",
   "execution_count": null,
   "metadata": {},
   "outputs": [],
   "source": [
    "web_book_data = books_df[[\"book_id\", \"title\", \"image_url\", \"authors\"]]\n",
    "web_book_data = web_book_data.sort_values('book_id')"
   ]
  },
  {
   "cell_type": "code",
   "execution_count": null,
   "metadata": {},
   "outputs": [
    {
     "data": {
      "text/html": [
       "<div>\n",
       "<style scoped>\n",
       "    .dataframe tbody tr th:only-of-type {\n",
       "        vertical-align: middle;\n",
       "    }\n",
       "\n",
       "    .dataframe tbody tr th {\n",
       "        vertical-align: top;\n",
       "    }\n",
       "\n",
       "    .dataframe thead th {\n",
       "        text-align: right;\n",
       "    }\n",
       "</style>\n",
       "<table border=\"1\" class=\"dataframe\">\n",
       "  <thead>\n",
       "    <tr style=\"text-align: right;\">\n",
       "      <th></th>\n",
       "      <th>book_id</th>\n",
       "      <th>title</th>\n",
       "      <th>image_url</th>\n",
       "      <th>authors</th>\n",
       "    </tr>\n",
       "  </thead>\n",
       "  <tbody>\n",
       "    <tr>\n",
       "      <th>26</th>\n",
       "      <td>1</td>\n",
       "      <td>Harry Potter and the Half-Blood Prince (Harry ...</td>\n",
       "      <td>https://images.gr-assets.com/books/1361039191m...</td>\n",
       "      <td>J.K. Rowling, Mary GrandPré</td>\n",
       "    </tr>\n",
       "    <tr>\n",
       "      <th>20</th>\n",
       "      <td>2</td>\n",
       "      <td>Harry Potter and the Order of the Phoenix (Har...</td>\n",
       "      <td>https://images.gr-assets.com/books/1387141547m...</td>\n",
       "      <td>J.K. Rowling, Mary GrandPré</td>\n",
       "    </tr>\n",
       "    <tr>\n",
       "      <th>1</th>\n",
       "      <td>3</td>\n",
       "      <td>Harry Potter and the Sorcerer's Stone (Harry P...</td>\n",
       "      <td>https://images.gr-assets.com/books/1474154022m...</td>\n",
       "      <td>J.K. Rowling, Mary GrandPré</td>\n",
       "    </tr>\n",
       "    <tr>\n",
       "      <th>17</th>\n",
       "      <td>5</td>\n",
       "      <td>Harry Potter and the Prisoner of Azkaban (Harr...</td>\n",
       "      <td>https://images.gr-assets.com/books/1499277281m...</td>\n",
       "      <td>J.K. Rowling, Mary GrandPré, Rufus Beck</td>\n",
       "    </tr>\n",
       "    <tr>\n",
       "      <th>23</th>\n",
       "      <td>6</td>\n",
       "      <td>Harry Potter and the Goblet of Fire (Harry Pot...</td>\n",
       "      <td>https://images.gr-assets.com/books/1361482611m...</td>\n",
       "      <td>J.K. Rowling, Mary GrandPré</td>\n",
       "    </tr>\n",
       "  </tbody>\n",
       "</table>\n",
       "</div>"
      ],
      "text/plain": [
       "    book_id                                              title  \\\n",
       "26        1  Harry Potter and the Half-Blood Prince (Harry ...   \n",
       "20        2  Harry Potter and the Order of the Phoenix (Har...   \n",
       "1         3  Harry Potter and the Sorcerer's Stone (Harry P...   \n",
       "17        5  Harry Potter and the Prisoner of Azkaban (Harr...   \n",
       "23        6  Harry Potter and the Goblet of Fire (Harry Pot...   \n",
       "\n",
       "                                            image_url  \\\n",
       "26  https://images.gr-assets.com/books/1361039191m...   \n",
       "20  https://images.gr-assets.com/books/1387141547m...   \n",
       "1   https://images.gr-assets.com/books/1474154022m...   \n",
       "17  https://images.gr-assets.com/books/1499277281m...   \n",
       "23  https://images.gr-assets.com/books/1361482611m...   \n",
       "\n",
       "                                    authors  \n",
       "26              J.K. Rowling, Mary GrandPré  \n",
       "20              J.K. Rowling, Mary GrandPré  \n",
       "1               J.K. Rowling, Mary GrandPré  \n",
       "17  J.K. Rowling, Mary GrandPré, Rufus Beck  \n",
       "23              J.K. Rowling, Mary GrandPré  "
      ]
     },
     "execution_count": 25,
     "metadata": {},
     "output_type": "execute_result"
    }
   ],
   "source": [
    "web_book_data.head()"
   ]
  },
  {
   "cell_type": "code",
   "execution_count": null,
   "metadata": {},
   "outputs": [],
   "source": [
    "web_book_data.to_json(r'web_book_data.json', orient='records')"
   ]
  }
 ],
 "metadata": {
  "kernelspec": {
   "display_name": "Python 3",
   "language": "python",
   "name": "python3"
  },
  "language_info": {
   "codemirror_mode": {
    "name": "ipython",
    "version": 3
   },
   "file_extension": ".py",
   "mimetype": "text/x-python",
   "name": "python",
   "nbconvert_exporter": "python",
   "pygments_lexer": "ipython3",
   "version": "3.10.12"
  }
 },
 "nbformat": 4,
 "nbformat_minor": 4
}
