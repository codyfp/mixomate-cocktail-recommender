{
 "cells": [
  {
   "cell_type": "code",
   "execution_count": 49,
   "metadata": {},
   "outputs": [],
   "source": [
    "import numpy as np\n",
    "import pandas as pd\n",
    "import matplotlib.pyplot as plt\n",
    "import os\n",
    "import warnings\n",
    "import nltk\n",
    "from nltk.tokenize import word_tokenize\n",
    "from nltk.probability import FreqDist\n",
    "from nltk.corpus import stopwords\n",
    "import re\n",
    "from sklearn.feature_extraction.text import TfidfVectorizer\n",
    "from sklearn.metrics.pairwise import cosine_similarity\n",
    "\n",
    "\n",
    "\n",
    "warnings.filterwarnings('ignore')\n",
    "%matplotlib inline\n",
    "\n",
    "import tensorflow.keras as tf"
   ]
  },
  {
   "cell_type": "code",
   "execution_count": 33,
   "metadata": {},
   "outputs": [],
   "source": [
    "\n",
    "data = pd.read_csv(\"cocktail-data/drinks.csv\")\n",
    "columns_to_keep = ['Cocktail Name', 'Ingredients', 'Garnish', 'Glassware', 'Preparation']\n",
    "data = data[columns_to_keep]\n"
   ]
  },
  {
   "cell_type": "code",
   "execution_count": 34,
   "metadata": {},
   "outputs": [
    {
     "data": {
      "text/html": [
       "<div>\n",
       "<style scoped>\n",
       "    .dataframe tbody tr th:only-of-type {\n",
       "        vertical-align: middle;\n",
       "    }\n",
       "\n",
       "    .dataframe tbody tr th {\n",
       "        vertical-align: top;\n",
       "    }\n",
       "\n",
       "    .dataframe thead th {\n",
       "        text-align: right;\n",
       "    }\n",
       "</style>\n",
       "<table border=\"1\" class=\"dataframe\">\n",
       "  <thead>\n",
       "    <tr style=\"text-align: right;\">\n",
       "      <th></th>\n",
       "      <th>Cocktail Name</th>\n",
       "      <th>Ingredients</th>\n",
       "      <th>Garnish</th>\n",
       "      <th>Glassware</th>\n",
       "      <th>Preparation</th>\n",
       "    </tr>\n",
       "  </thead>\n",
       "  <tbody>\n",
       "    <tr>\n",
       "      <th>0</th>\n",
       "      <td>Flor de Amaras</td>\n",
       "      <td>1.5 oz Mezcal, 1 oz Hibiscus Simple Syrup*, .5...</td>\n",
       "      <td>Marigold Petals</td>\n",
       "      <td>NaN</td>\n",
       "      <td>*Hibiscus Simple Syrup:\\n1:1 w/ a cup of dried...</td>\n",
       "    </tr>\n",
       "    <tr>\n",
       "      <th>1</th>\n",
       "      <td>The Happy Place</td>\n",
       "      <td>2 oz Junipero Gin, .75 oz House-made Cranberry...</td>\n",
       "      <td>Dehydrated Lemon Wheel, Sprig of Rosemary</td>\n",
       "      <td>NaN</td>\n",
       "      <td>*House-made Cranberry syrup: \\n-- 2 cups Fresh...</td>\n",
       "    </tr>\n",
       "    <tr>\n",
       "      <th>2</th>\n",
       "      <td>Bon Voyage Pisco Punch</td>\n",
       "      <td>1500 ml BarSol Selecto Italia Pisco, 750 ml Le...</td>\n",
       "      <td>NaN</td>\n",
       "      <td>Punch Bowl</td>\n",
       "      <td>*Pineapple Gomme: \\nMix equal parts (1.5 cups)...</td>\n",
       "    </tr>\n",
       "    <tr>\n",
       "      <th>3</th>\n",
       "      <td>Still Life of a Pineapple</td>\n",
       "      <td>1.5 oz BarSol Primero Quebranta Pisco, .75 oz ...</td>\n",
       "      <td>NaN</td>\n",
       "      <td>NaN</td>\n",
       "      <td>*Pineapple Syrup:\\n&lt;em&gt;Equal parts pineapple b...</td>\n",
       "    </tr>\n",
       "    <tr>\n",
       "      <th>4</th>\n",
       "      <td>The Bittered Valley</td>\n",
       "      <td>1.25 oz Luxardo Maraschino Liqueur, 4 drops Ac...</td>\n",
       "      <td>NaN</td>\n",
       "      <td>NaN</td>\n",
       "      <td>1st glass ingredients:\\nLuxardo Maraschino, Ac...</td>\n",
       "    </tr>\n",
       "  </tbody>\n",
       "</table>\n",
       "</div>"
      ],
      "text/plain": [
       "               Cocktail Name  \\\n",
       "0             Flor de Amaras   \n",
       "1            The Happy Place   \n",
       "2     Bon Voyage Pisco Punch   \n",
       "3  Still Life of a Pineapple   \n",
       "4        The Bittered Valley   \n",
       "\n",
       "                                         Ingredients  \\\n",
       "0  1.5 oz Mezcal, 1 oz Hibiscus Simple Syrup*, .5...   \n",
       "1  2 oz Junipero Gin, .75 oz House-made Cranberry...   \n",
       "2  1500 ml BarSol Selecto Italia Pisco, 750 ml Le...   \n",
       "3  1.5 oz BarSol Primero Quebranta Pisco, .75 oz ...   \n",
       "4  1.25 oz Luxardo Maraschino Liqueur, 4 drops Ac...   \n",
       "\n",
       "                                     Garnish   Glassware  \\\n",
       "0                            Marigold Petals         NaN   \n",
       "1  Dehydrated Lemon Wheel, Sprig of Rosemary         NaN   \n",
       "2                                        NaN  Punch Bowl   \n",
       "3                                        NaN         NaN   \n",
       "4                                        NaN         NaN   \n",
       "\n",
       "                                         Preparation  \n",
       "0  *Hibiscus Simple Syrup:\\n1:1 w/ a cup of dried...  \n",
       "1  *House-made Cranberry syrup: \\n-- 2 cups Fresh...  \n",
       "2  *Pineapple Gomme: \\nMix equal parts (1.5 cups)...  \n",
       "3  *Pineapple Syrup:\\n<em>Equal parts pineapple b...  \n",
       "4  1st glass ingredients:\\nLuxardo Maraschino, Ac...  "
      ]
     },
     "execution_count": 34,
     "metadata": {},
     "output_type": "execute_result"
    }
   ],
   "source": [
    "data.head()\n",
    "\n"
   ]
  },
  {
   "cell_type": "code",
   "execution_count": 35,
   "metadata": {},
   "outputs": [
    {
     "name": "stdout",
     "output_type": "stream",
     "text": [
      "Cocktail Name    0.000000\n",
      "Ingredients      0.000000\n",
      "Garnish          0.313576\n",
      "Glassware        0.416495\n",
      "Preparation      0.070093\n",
      "dtype: float64\n"
     ]
    }
   ],
   "source": [
    "percentNull = (data.isnull().sum())/(data.count())\n",
    "print((percentNull))\n"
   ]
  },
  {
   "cell_type": "code",
   "execution_count": 36,
   "metadata": {},
   "outputs": [
    {
     "name": "stdout",
     "output_type": "stream",
     "text": [
      "       Cocktail Name                                        Ingredients  \\\n",
      "count            687                                                687   \n",
      "unique           684                                                686   \n",
      "top      Rita's Song  1 oz No.3 London Dry Gin, 1 oz Tempus Fugit Al...   \n",
      "freq               2                                                  2   \n",
      "\n",
      "               Garnish Glassware  \\\n",
      "count              523       485   \n",
      "unique             318        66   \n",
      "top     Luxardo Cherry     Coupe   \n",
      "freq                32       107   \n",
      "\n",
      "                                              Preparation  \n",
      "count                                                 642  \n",
      "unique                                                630  \n",
      "top     Shake until very cold; double strain into a ch...  \n",
      "freq                                                    3  \n"
     ]
    }
   ],
   "source": [
    "summary_stats = data.describe()\n",
    "print(summary_stats)"
   ]
  },
  {
   "cell_type": "code",
   "execution_count": 40,
   "metadata": {},
   "outputs": [
    {
     "name": "stdout",
     "output_type": "stream",
     "text": [
      "                 Cocktail Name                                   Garnish  \\\n",
      "0               Flor de Amaras                           Marigold Petals   \n",
      "1              The Happy Place  Dehydrated Lemon Wheel Sprig of Rosemary   \n",
      "2       Bon Voyage Pisco Punch                                             \n",
      "3    Still Life of a Pineapple                                             \n",
      "4          The Bittered Valley                                             \n",
      "..                         ...                                       ...   \n",
      "682         The Negroni Bianco                                             \n",
      "683           Match Grip Julep                                             \n",
      "684             The Dry Cruise                       Edible Flower Straw   \n",
      "685                   Red Hook                                             \n",
      "686                 Union Jack                                             \n",
      "\n",
      "      Glassware                                        Preparation  abano  \\\n",
      "0           NaN  *Hibiscus Simple Syrup:\\n1:1 w/ a cup of dried...      0   \n",
      "1           NaN  *House-made Cranberry syrup: \\n-- 2 cups Fresh...      0   \n",
      "2    Punch Bowl  *Pineapple Gomme: \\nMix equal parts (1.5 cups)...      0   \n",
      "3           NaN  *Pineapple Syrup:\\n<em>Equal parts pineapple b...      0   \n",
      "4           NaN  1st glass ingredients:\\nLuxardo Maraschino, Ac...      1   \n",
      "..          ...                                                ...    ...   \n",
      "682         NaN                                                NaN      0   \n",
      "683         NaN                                                NaN      0   \n",
      "684         NaN                                                NaN      0   \n",
      "685         NaN                                                NaN      0   \n",
      "686         NaN                                                NaN      0   \n",
      "\n",
      "     abbott  abita  abricot  absinthe  absolut  ...  ypiòca  yuzu  yvette  \\\n",
      "0         0      0        0         0        0  ...       0     0       0   \n",
      "1         0      0        0         0        0  ...       0     0       0   \n",
      "2         0      0        0         0        0  ...       0     0       0   \n",
      "3         0      0        0         1        0  ...       0     0       0   \n",
      "4         0      0        0         0        0  ...       0     0       0   \n",
      "..      ...    ...      ...       ...      ...  ...     ...   ...     ...   \n",
      "682       0      0        0         0        0  ...       0     0       0   \n",
      "683       0      0        0         0        0  ...       0     0       0   \n",
      "684       0      0        0         0        0  ...       0     0       0   \n",
      "685       0      0        0         0        0  ...       0     0       0   \n",
      "686       0      0        0         0        0  ...       0     0       0   \n",
      "\n",
      "     zangs  zero  zest  zested  zin  zirbenz  zuger  \n",
      "0        0     0     0       0    0        0      0  \n",
      "1        0     0     0       0    0        0      0  \n",
      "2        0     0     0       0    1        0      0  \n",
      "3        0     0     0       0    0        0      0  \n",
      "4        0     0     0       0    0        0      0  \n",
      "..     ...   ...   ...     ...  ...      ...    ...  \n",
      "682      0     0     0       0    0        0      0  \n",
      "683      0     0     0       0    0        0      0  \n",
      "684      0     0     0       0    0        0      0  \n",
      "685      0     0     0       0    0        0      0  \n",
      "686      0     0     0       0    0        0      0  \n",
      "\n",
      "[687 rows x 1160 columns]\n"
     ]
    }
   ],
   "source": [
    "from sklearn.feature_extraction.text import CountVectorizer\n",
    "df = pd.DataFrame(data)\n",
    "\n",
    "# Fill NaN values with empty strings or any other appropriate placeholders\n",
    "df['Ingredients'].fillna('', inplace=True)\n",
    "\n",
    "# Define a regular expression pattern to match quantities like \"1.5 oz\" or \"10\"\n",
    "quantity_pattern = r'\\d+(\\.\\d+)?\\s*(oz|ml|g|cl)?'\n",
    "\n",
    "# Replace quantities with a special token, preserving the unit if present\n",
    "df['Ingredients'] = df['Ingredients'].str.replace(quantity_pattern, 'QUANTITY_TOKEN')\n",
    "\n",
    "# Tokenize 'Ingredients' column\n",
    "vectorizer = CountVectorizer()\n",
    "ingredient_matrix = vectorizer.fit_transform(df['Ingredients'])\n",
    "ingredient_df = pd.DataFrame(ingredient_matrix.toarray(), columns=vectorizer.get_feature_names_out())\n",
    "\n",
    "# Concatenate the tokenized columns back to the original DataFrame\n",
    "df = pd.concat([df, ingredient_df], axis=1)\n",
    "\n",
    "# Drop the original text-based 'Ingredients' column\n",
    "df.drop(['Ingredients'], axis=1, inplace=True)\n",
    "\n",
    "print(df)\n",
    "# Define the path and filename for the Excel file\n",
    "excel_file_path = 'tokenized_cocktails.xlsx'\n",
    "\n",
    "# Export the DataFrame to Excel\n",
    "df.to_excel(excel_file_path, index=False)\n"
   ]
  },
  {
   "cell_type": "code",
   "execution_count": 41,
   "metadata": {},
   "outputs": [
    {
     "name": "stdout",
     "output_type": "stream",
     "text": [
      "                 Cocktail Name   Glassware  abano  abbott  abita  abricot  \\\n",
      "0               Flor de Amaras         NaN      0       0      0        0   \n",
      "1              The Happy Place         NaN      0       0      0        0   \n",
      "2       Bon Voyage Pisco Punch  Punch Bowl      0       0      0        0   \n",
      "3    Still Life of a Pineapple         NaN      0       0      0        0   \n",
      "4          The Bittered Valley         NaN      1       0      0        0   \n",
      "..                         ...         ...    ...     ...    ...      ...   \n",
      "682         The Negroni Bianco         NaN      0       0      0        0   \n",
      "683           Match Grip Julep         NaN      0       0      0        0   \n",
      "684             The Dry Cruise         NaN      0       0      0        0   \n",
      "685                   Red Hook         NaN      0       0      0        0   \n",
      "686                 Union Jack         NaN      0       0      0        0   \n",
      "\n",
      "     absinthe  absolut  acacia  acholado  ...  wedges  wheel  wheels  white  \\\n",
      "0           0        0       0         0  ...       0      0       0      0   \n",
      "1           0        0       0         0  ...       0      1       0      0   \n",
      "2           0        0       0         0  ...       0      0       0      0   \n",
      "3           1        0       0         0  ...       0      0       0      0   \n",
      "4           0        0       0         0  ...       0      0       0      0   \n",
      "..        ...      ...     ...       ...  ...     ...    ...     ...    ...   \n",
      "682         0        0       0         0  ...       0      0       0      0   \n",
      "683         0        0       0         0  ...       0      0       0      0   \n",
      "684         0        0       0         0  ...       0      0       0      0   \n",
      "685         0        0       0         0  ...       0      0       0      0   \n",
      "686         0        0       0         0  ...       0      0       0      0   \n",
      "\n",
      "     whole  with  xoconostle  yerba  young  zest  \n",
      "0        0     0           0      0      0     0  \n",
      "1        0     0           0      0      0     0  \n",
      "2        0     0           0      0      0     0  \n",
      "3        0     0           0      0      0     0  \n",
      "4        0     0           0      0      0     0  \n",
      "..     ...   ...         ...    ...    ...   ...  \n",
      "682      0     0           0      0      0     0  \n",
      "683      0     0           0      0      0     0  \n",
      "684      0     0           0      0      0     0  \n",
      "685      0     0           0      0      0     0  \n",
      "686      0     0           0      0      0     0  \n",
      "\n",
      "[687 rows x 1420 columns]\n"
     ]
    }
   ],
   "source": [
    "# Combine the tokenized 'Ingredients' and 'Garnish' DataFrames into one\n",
    "combined_df = pd.concat([ingredient_df, garnish_df], axis=1)\n",
    "\n",
    "# Optionally, you can also add other columns like 'Cocktail Name', 'Glassware', etc. if needed\n",
    "combined_df = pd.concat([df[['Cocktail Name', 'Glassware']], combined_df], axis=1)\n",
    "\n",
    "print(combined_df)"
   ]
  },
  {
   "cell_type": "code",
   "execution_count": 21,
   "metadata": {},
   "outputs": [
    {
     "name": "stdout",
     "output_type": "stream",
     "text": [
      "Ingredient Count Statistics:\n",
      "count    687.000000\n",
      "mean       4.707424\n",
      "std        1.409150\n",
      "min        1.000000\n",
      "25%        4.000000\n",
      "50%        5.000000\n",
      "75%        5.000000\n",
      "max       13.000000\n",
      "Name: Ingredient Count, dtype: float64\n",
      "\n",
      "Top 10 Common Ingredients:\n",
      ".Lemon Juice                   76\n",
      ".Luxardo Maraschino Liqueur    65\n",
      "No.3 London Dry Gin            63\n",
      "Junipero Gin                   62\n",
      ".King's Ginger Liqueur         42\n",
      ".Lime Juice                    38\n",
      "H by HINE                      38\n",
      "King's Ginger Liqueur          36\n",
      ".Fresh Lemon Juice             32\n",
      "Pink Pigeon Rum                29\n",
      "dtype: int64\n"
     ]
    }
   ],
   "source": [
    "# Split ingredients by comma and count the number of ingredients (excluding measurements and units)\n",
    "def count_ingredients(ingredients):\n",
    "    ingredient_list = [re.sub(r'\\d+\\s*oz\\s*', '', ingredient).strip() for ingredient in ingredients.split(',')]\n",
    "    return len(ingredient_list)\n",
    "\n",
    "data['Ingredient Count'] = data['Ingredients'].apply(count_ingredients)\n",
    "\n",
    "# Find the most common ingredients (excluding measurements and units)\n",
    "ingredients_list = [re.sub(r'\\d+(\\.\\d+)?\\s*oz\\s*', '', ingredient).strip() for ingredients in data['Ingredients'] for ingredient in ingredients.split(',')]\n",
    "common_ingredients = pd.Series(ingredients_list).value_counts()\n",
    "\n",
    "print(\"Ingredient Count Statistics:\")\n",
    "print(data['Ingredient Count'].describe())\n",
    "\n",
    "print(\"\\nTop 10 Common Ingredients:\")\n",
    "print(common_ingredients.head(10))\n"
   ]
  },
  {
   "cell_type": "code",
   "execution_count": 50,
   "metadata": {},
   "outputs": [
    {
     "name": "stdout",
     "output_type": "stream",
     "text": [
      "  (0, 831)\t0.4690145731311455\n",
      "  (0, 691)\t0.44121468912553546\n",
      "  (0, 1165)\t0.2358184465111233\n",
      "  (0, 1026)\t0.2525613105480118\n",
      "  (0, 1118)\t0.2636183305167333\n",
      "  (0, 601)\t0.11628676694295816\n",
      "  (0, 659)\t0.17299485071426432\n",
      "  (0, 1085)\t0.1404849298567641\n",
      "  (0, 1008)\t0.20288310784507016\n",
      "  (0, 552)\t0.4061909773342865\n",
      "  (0, 714)\t0.28334266211697434\n",
      "  (0, 799)\t0.21642821686795033\n",
      "  (1, 949)\t0.24195208831873125\n",
      "  (1, 774)\t0.19264604704629676\n",
      "  (1, 1045)\t0.15132731852304215\n",
      "  (1, 1172)\t0.1380844989290056\n",
      "  (1, 358)\t0.21992682110494233\n",
      "  (1, 634)\t0.2692328623773768\n",
      "  (1, 725)\t0.2692328623773768\n",
      "  (1, 148)\t0.08130261425616332\n",
      "  (1, 355)\t0.2692328623773768\n",
      "  (1, 399)\t0.2692328623773768\n",
      "  (1, 461)\t0.2692328623773768\n",
      "  (1, 353)\t0.08097187418004728\n",
      "  (1, 152)\t0.19871308444513153\n",
      "  :\t:\n",
      "  (684, 644)\t0.09691363457823009\n",
      "  (684, 30)\t0.099652141234895\n",
      "  (684, 1118)\t0.20176598596646747\n",
      "  (684, 601)\t0.0890025899986096\n",
      "  (684, 1085)\t0.10752317689903895\n",
      "  (684, 799)\t0.2760800212042071\n",
      "  (685, 711)\t0.5004214289858451\n",
      "  (685, 897)\t0.5004214289858451\n",
      "  (685, 1177)\t0.3912423575077839\n",
      "  (685, 959)\t0.38331411048501435\n",
      "  (685, 662)\t0.17095769276183945\n",
      "  (685, 690)\t0.262497695130619\n",
      "  (685, 674)\t0.15919617319841559\n",
      "  (685, 799)\t0.27510271353442556\n",
      "  (686, 105)\t0.46032134774292927\n",
      "  (686, 640)\t0.46032134774292927\n",
      "  (686, 523)\t0.3520188425003583\n",
      "  (686, 128)\t0.2989618673013281\n",
      "  (686, 247)\t0.3020922982413839\n",
      "  (686, 522)\t0.2959706135153475\n",
      "  (686, 662)\t0.1320025843762098\n",
      "  (686, 690)\t0.2026839131381554\n",
      "  (686, 674)\t0.12292109202870745\n",
      "  (686, 30)\t0.2555754067799092\n",
      "  (686, 799)\t0.21241670128317397\n"
     ]
    }
   ],
   "source": [
    "df['Text'] = data['Ingredients'] + ' ' + data['Garnish']\n",
    "\n",
    "# Create a TF-IDF vectorizer\n",
    "tfidf_vectorizer = TfidfVectorizer()\n",
    "\n",
    "# Fit and transform the TF-IDF vectorizer on the combined text\n",
    "feature_matrix = tfidf_vectorizer.fit_transform(df['Text'])\n",
    "cosine_sim_matrix = cosine_similarity(feature_matrix, feature_matrix)\n",
    "\n"
   ]
  },
  {
   "cell_type": "code",
   "execution_count": 51,
   "metadata": {},
   "outputs": [
    {
     "data": {
      "image/png": "[encoded data removed]",
      "text/plain": [
       "<Figure size 1000x800 with 2 Axes>"
      ]
     },
     "metadata": {},
     "output_type": "display_data"
    }
   ],
   "source": [
    "import matplotlib.pyplot as plt\n",
    "import seaborn as sns\n",
    "\n",
    "# Assuming 'cosine_sim_matrix' is your cosine similarity matrix\n",
    "\n",
    "# Create a heatmap\n",
    "plt.figure(figsize=(10, 8))\n",
    "sns.heatmap(cosine_sim_matrix, annot=True, cmap='YlGnBu', linewidths=0.5)\n",
    "plt.title('Cosine Similarity Heatmap')\n",
    "plt.show()\n"
   ]
  },
  {
   "cell_type": "code",
   "execution_count": 22,
   "metadata": {
    "tags": []
   },
   "outputs": [
    {
     "name": "stdout",
     "output_type": "stream",
     "text": [
      "Shape of train data: (549, 6)\n",
      "Shape of test data: (138, 6)\n"
     ]
    }
   ],
   "source": [
    "from sklearn.model_selection import train_test_split\n",
    "\n",
    "Xtrain, Xtest = train_test_split(data, test_size=0.2, random_state=1)\n",
    "print(f\"Shape of train data: {Xtrain.shape}\")\n",
    "print(f\"Shape of test data: {Xtest.shape}\")"
   ]
  },
  {
   "cell_type": "markdown",
   "metadata": {},
   "source": [
    "## CREATE A NEURAL NETWORK"
   ]
  },
  {
   "cell_type": "code",
   "execution_count": 53,
   "metadata": {},
   "outputs": [
    {
     "name": "stdout",
     "output_type": "stream",
     "text": [
      "Recommended cocktails for Down the Rabbit Hole:\n",
      "265           Juniperotivo\n",
      "260          The Southside\n",
      "662         Southside Fizz\n",
      "678    Spring Fling Sipper\n",
      "172           Radice Amara\n",
      "Name: Cocktail Name, dtype: object\n"
     ]
    }
   ],
   "source": [
    "import numpy as np\n",
    "from sklearn.metrics.pairwise import cosine_similarity\n",
    "\n",
    "\n",
    "# Calculate cosine similarity matrix\n",
    "cosine_sim_matrix = cosine_similarity(feature_matrix, feature_matrix)\n",
    "\n",
    "# Create a function to recommend cocktails\n",
    "def recommend_cocktails(cocktail_name, cosine_sim_matrix, data):\n",
    "    # Find the index of the cocktail with the given name\n",
    "    idx = data[data['Cocktail Name'] == cocktail_name].index[0]\n",
    "\n",
    "    # Get the cosine similarity scores for the given cocktail\n",
    "    sim_scores = list(enumerate(cosine_sim_matrix[idx]))\n",
    "\n",
    "    # Sort the cocktails based on similarity scores in descending order\n",
    "    sim_scores = sorted(sim_scores, key=lambda x: x[1], reverse=True)\n",
    "\n",
    "    # Get the top N similar cocktails (excluding the input cocktail itself)\n",
    "    top_N = 5  # You can adjust this value to control the number of recommendations\n",
    "    similar_cocktails = sim_scores[1:(top_N + 1)]\n",
    "\n",
    "    # Extract the indices of similar cocktails\n",
    "    cocktail_indices = [x[0] for x in similar_cocktails]\n",
    "\n",
    "    # Return the names of recommended cocktails\n",
    "    recommended_cocktails = data['Cocktail Name'].iloc[cocktail_indices]\n",
    "\n",
    "    return recommended_cocktails\n",
    "\n",
    "# Example usage:\n",
    "input_cocktail = 'Down the Rabbit Hole'\n",
    "recommendations = recommend_cocktails(input_cocktail, cosine_sim_matrix, df)\n",
    "\n",
    "print(f'Recommended cocktails for {input_cocktail}:')\n",
    "print(recommendations)\n"
   ]
  },
  {
   "cell_type": "code",
   "execution_count": 54,
   "metadata": {
    "tags": []
   },
   "outputs": [
    {
     "name": "stdout",
     "output_type": "stream",
     "text": [
      "Cosine similarity matrix saved to cosine_similarity_matrix.h5\n"
     ]
    }
   ],
   "source": [
    "import h5py\n",
    "\n",
    "# Assuming 'cosine_sim_matrix' is your cosine similarity matrix\n",
    "\n",
    "# Define the file path and filename for the .h5 file\n",
    "h5_file_path = 'cosine_similarity_matrix.h5'\n",
    "\n",
    "# Create an HDF5 file and save the cosine similarity matrix\n",
    "with h5py.File(h5_file_path, 'w') as hf:\n",
    "    hf.create_dataset('cosine_similarity', data=cosine_sim_matrix)\n",
    "\n",
    "print(f'Cosine similarity matrix saved to {h5_file_path}')\n"
   ]
  }
 ],
 "metadata": {
  "kernelspec": {
   "display_name": "Python 3",
   "language": "python",
   "name": "python3"
  },
  "language_info": {
   "codemirror_mode": {
    "name": "ipython",
    "version": 3
   },
   "file_extension": ".py",
   "mimetype": "text/x-python",
   "name": "python",
   "nbconvert_exporter": "python",
   "pygments_lexer": "ipython3",
   "version": "3.11.4"
  }
 },
 "nbformat": 4,
 "nbformat_minor": 4
}
